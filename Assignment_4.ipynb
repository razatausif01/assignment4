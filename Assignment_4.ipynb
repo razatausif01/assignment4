{
  "cells": [
    {
      "cell_type": "markdown",
      "id": "2250a4ac",
      "metadata": {
        "id": "2250a4ac"
      },
      "source": [
        "## 1.\tWrite a Python Program to Find the Factorial of a Number?\n",
        "2.\tWrite a Python Program to Display the multiplication Table?\n",
        "3.\tWrite a Python Program to Print the Fibonacci sequence?\n",
        "4.\tWrite a Python Program to Check Armstrong Number?\n",
        "5.\tWrite a Python Program to Find Armstrong Number in an Interval?\n",
        "6.\tWrite a Python Program to Find the Sum of Natural Numbers?\n"
      ]
    },
    {
      "cell_type": "markdown",
      "source": [
        "#### write a python program to find the factorial of a number"
      ],
      "metadata": {
        "id": "LYbnEk2MyaIA"
      },
      "id": "LYbnEk2MyaIA"
    },
    {
      "cell_type": "code",
      "source": [
        "\n",
        "# factorial of given number\n",
        "def factorial(n):\n",
        "     \n",
        "    # single line to find factorial\n",
        "    return 1 if (n==1 or n==0) else n * factorial(n - 1);\n",
        " \n",
        "# Driver Code\n",
        "num = 7;\n",
        "print(\"Factorial of\",num,\"is\",\n",
        "factorial(num))"
      ],
      "metadata": {
        "colab": {
          "base_uri": "https://localhost:8080/"
        },
        "id": "0rsXg5cHxfYH",
        "outputId": "993db3e7-7184-4e22-c369-5d02b1c58468"
      },
      "id": "0rsXg5cHxfYH",
      "execution_count": null,
      "outputs": [
        {
          "output_type": "stream",
          "name": "stdout",
          "text": [
            "Factorial of 7 is 5040\n"
          ]
        }
      ]
    },
    {
      "cell_type": "markdown",
      "source": [
        "##Write a Python Program to Display the multiplication Table"
      ],
      "metadata": {
        "id": "MC_caTYX1z9o"
      },
      "id": "MC_caTYX1z9o"
    },
    {
      "cell_type": "code",
      "source": [
        "\n",
        "\n",
        "# Python Program to Print Multiplication Table\n",
        "\n",
        "num = int(input(\"Enter the number: \"))\n",
        "\n",
        "print(\"Multiplication Table of\", num)\n",
        "for i in range(1, 11):\n",
        "   print(num,\"X\",i,\"=\",num * i)"
      ],
      "metadata": {
        "colab": {
          "base_uri": "https://localhost:8080/"
        },
        "id": "A3ACiNnd1TGS",
        "outputId": "1e0bf6aa-d872-41c1-ce7f-436458c53873"
      },
      "id": "A3ACiNnd1TGS",
      "execution_count": null,
      "outputs": [
        {
          "output_type": "stream",
          "name": "stdout",
          "text": [
            "Enter the number: 3\n",
            "Multiplication Table of 3\n",
            "3 X 1 = 3\n",
            "3 X 2 = 6\n",
            "3 X 3 = 9\n",
            "3 X 4 = 12\n",
            "3 X 5 = 15\n",
            "3 X 6 = 18\n",
            "3 X 7 = 21\n",
            "3 X 8 = 24\n",
            "3 X 9 = 27\n",
            "3 X 10 = 30\n"
          ]
        }
      ]
    },
    {
      "cell_type": "markdown",
      "source": [
        "###Write a Python Program to Print the Fibonacci sequence"
      ],
      "metadata": {
        "id": "nC2WhXc3xa5I"
      },
      "id": "nC2WhXc3xa5I"
    },
    {
      "cell_type": "code",
      "source": [
        "\n",
        "def Fibonacci(n):\n",
        "   \n",
        "    # Check if input is 0 then it will\n",
        "    # print incorrect input\n",
        "    if n < 0:\n",
        "        print(\"Incorrect input\")\n",
        " \n",
        "    # Check if n is 0\n",
        "    # then it will return 0\n",
        "    elif n == 0:\n",
        "        return 0\n",
        " \n",
        "    # Check if n is 1,2\n",
        "    # it will return 1\n",
        "    elif n == 1 or n == 2:\n",
        "        return 1\n",
        " \n",
        "    else:\n",
        "        return Fibonacci(n-1) + Fibonacci(n-2)\n",
        " \n",
        "# Driver Program\n",
        "print(Fibonacci(9))\n",
        " "
      ],
      "metadata": {
        "colab": {
          "base_uri": "https://localhost:8080/"
        },
        "id": "p9-TTqFK4XhS",
        "outputId": "13a08057-3990-4cc4-a62f-4e2beb6e1d33"
      },
      "id": "p9-TTqFK4XhS",
      "execution_count": null,
      "outputs": [
        {
          "output_type": "stream",
          "name": "stdout",
          "text": [
            "34\n"
          ]
        }
      ]
    },
    {
      "cell_type": "markdown",
      "source": [
        "##Write a Python Program to Check Armstrong Number"
      ],
      "metadata": {
        "id": "NuZVqGUMGK2N"
      },
      "id": "NuZVqGUMGK2N"
    },
    {
      "cell_type": "code",
      "source": [
        "# Python program to determine whether\n",
        "# the number is Armstrong number or not\n",
        " \n",
        "# Function to calculate x raised to\n",
        "# the power y\n",
        "def power(x, y):\n",
        "     \n",
        "    if y == 0:\n",
        "        return 1\n",
        "    if y % 2 == 0:\n",
        "        return power(x, y // 2) * power(x, y // 2)\n",
        "         \n",
        "    return x * power(x, y // 2) * power(x, y // 2)\n",
        " "
      ],
      "metadata": {
        "id": "zJL-CexuGJ5P"
      },
      "id": "zJL-CexuGJ5P",
      "execution_count": 1,
      "outputs": []
    },
    {
      "cell_type": "markdown",
      "source": [
        ""
      ],
      "metadata": {
        "id": "wbRm3QfG4l0I"
      },
      "id": "wbRm3QfG4l0I"
    },
    {
      "cell_type": "markdown",
      "id": "d7b9ec7c",
      "metadata": {
        "id": "d7b9ec7c"
      },
      "source": [
        "## Write a Python Program to Find the Sum of Natural Numbers"
      ]
    },
    {
      "cell_type": "code",
      "execution_count": null,
      "id": "742220ff",
      "metadata": {
        "id": "742220ff",
        "outputId": "455c8375-bbdd-4cbf-e41d-71a0bf3628a5"
      },
      "outputs": [
        {
          "name": "stdout",
          "output_type": "stream",
          "text": [
            "Enter any number: 8\n",
            "The sum is 36\n"
          ]
        }
      ],
      "source": [
        "number = int(input(\"Enter any number: \"))  \n",
        "# checking value given bye user is valid or not\n",
        "if number < 0:  \n",
        "   print(\"Enter a positive number\")  \n",
        "else:  \n",
        "   sum = 0  \n",
        "# using while loop to add all values\n",
        "   while(number > 0):  \n",
        "       sum += number  \n",
        "       number -= 1  \n",
        " # print sum of all values\n",
        "   print(\"The sum is\",sum)"
      ]
    }
  ],
  "metadata": {
    "kernelspec": {
      "display_name": "Python 3 (ipykernel)",
      "language": "python",
      "name": "python3"
    },
    "language_info": {
      "codemirror_mode": {
        "name": "ipython",
        "version": 3
      },
      "file_extension": ".py",
      "mimetype": "text/x-python",
      "name": "python",
      "nbconvert_exporter": "python",
      "pygments_lexer": "ipython3",
      "version": "3.9.7"
    },
    "colab": {
      "name": "Assignment_4.ipynb",
      "provenance": [],
      "collapsed_sections": []
    }
  },
  "nbformat": 4,
  "nbformat_minor": 5
}